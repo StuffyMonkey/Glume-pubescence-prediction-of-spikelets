{
 "cells": [
  {
   "cell_type": "code",
   "execution_count": 2,
   "metadata": {},
   "outputs": [],
   "source": [
    "import pandas as pd\n",
    "import numpy as np\n",
    "import re\n",
    "import os\n",
    "import seaborn as sns\n",
    "from matplotlib import pyplot as plt\n",
    "\n",
    "h_dir = os.getcwd()"
   ]
  },
  {
   "cell_type": "markdown",
   "metadata": {},
   "source": [
    "# Step 1: Prepare text for future processing"
   ]
  },
  {
   "cell_type": "code",
   "execution_count": 3,
   "metadata": {},
   "outputs": [
    {
     "data": {
      "text/plain": [
       "['№ Каталога', 'Опушение', 'Вегетация', 'Порядковый номер', 'Диплоиды']"
      ]
     },
     "execution_count": 3,
     "metadata": {},
     "output_type": "execute_result"
    }
   ],
   "source": [
    "# Create csv file with labels\n",
    "\n",
    "text = open(h_dir + '/experimental_data')\n",
    "raw_data = text.read().split(';')\n",
    "for i in range(len(raw_data)):\n",
    "    raw_data[i] = raw_data[i].split('\\n')\n",
    "    filter_obj = filter(lambda x: x!='', raw_data[i])\n",
    "    raw_data[i] = list(filter_obj)\n",
    "    \n",
    "raw_data.pop(0)\n",
    "    \n",
    "# print(raw_data)"
   ]
  },
  {
   "cell_type": "markdown",
   "metadata": {},
   "source": [
    "# Step 2: Create dataframe to import in into csv using patterns of regex"
   ]
  },
  {
   "cell_type": "code",
   "execution_count": 4,
   "metadata": {},
   "outputs": [],
   "source": [
    "def list_to_str(lst):\n",
    "    res_str = ''\n",
    "    for x in lst:\n",
    "        res_str += x + ';'\n",
    "    return res_str\n",
    "\n",
    "\n",
    "df = pd.DataFrame({'Номер_каталога': [],\n",
    "                   'Вид_злаков':[],\n",
    "                   'Вид':[],\n",
    "                   'Опушение':[],\n",
    "                   'Вегетация':[],\n",
    "                   'Порядковые_номера':[]\n",
    "                  })\n",
    "\n",
    "spec_patt = r'T\\.\\s\\w*'\n",
    "species = ''\n",
    "\n",
    "ear_patt = r'([А-Я][а-я]*)'\n",
    "ear_kind = 'Диплоиды'\n",
    "\n",
    "veg_patt = ''\n",
    "num_patt = ''\n",
    "    \n",
    "for x in raw_data:\n",
    "    if not x:\n",
    "        continue\n",
    "    # in this case we consider only spicies of wheat and ear kinds (as you may see they are lists 1 lenght)\n",
    "    if len(x) == 1:\n",
    "        res = re.search(spec_patt, x[0])\n",
    "        if res:\n",
    "            species = res.group()\n",
    "        else:\n",
    "            res = re.search(ear_patt, x[0])\n",
    "            if res:\n",
    "                ear_kind = res.group()\n",
    "    # otherways we consider specific species of wheat\n",
    "    else:\n",
    "        catalog_num = x[0]\n",
    "        pubescence = 0\n",
    "        veg = []\n",
    "        ord_num = []\n",
    "        if x[1] == '+':\n",
    "            pubescence = 1\n",
    "            \n",
    "        # regex patterns to distinguish vegetation for order numbers\n",
    "        veg_patt = r'(X|Х|I){1,2}-?\\d{2}'\n",
    "        ord_patt = r'\\d{2,4}-?(\\d{2,4})?'\n",
    "        for i in [i+2 for i in range(len(x)-2)]:\n",
    "            res = re.search(veg_patt, x[i])\n",
    "            if res:\n",
    "                veg.append(res.group())\n",
    "            else:\n",
    "                res = re.search(ord_patt, x[i])\n",
    "                if res:\n",
    "                    ord_num.append(res.group())\n",
    "        # add data into dataframe\n",
    "        df = df.append(pd.DataFrame({'Номер_каталога': [catalog_num],\n",
    "                   'Вид_злаков':[ear_kind],\n",
    "                   'Вид':[species],\n",
    "                   'Опушение':[str(pubescence)],\n",
    "                   'Вегетация':[list_to_str(veg)],\n",
    "                   'Порядковые_номера':[list_to_str(ord_num)],\n",
    "                  }))\n",
    "\n",
    "# df ---> csv\n",
    "df.to_csv('labels.csv', index=False)"
   ]
  },
  {
   "cell_type": "code",
   "execution_count": 5,
   "metadata": {},
   "outputs": [
    {
     "name": "stdout",
     "output_type": "stream",
     "text": [
      "  Номер_каталога   Вид_злаков           Вид Опушение         Вегетация  \\\n",
      "0    ANDW5AP17AL  Тетраплоиды  T. polonicum        0  X-19;II-20;X-20;   \n",
      "\n",
      "            Порядковые_номера  \n",
      "0  7892-99;7691-7700;6721-30;  \n"
     ]
    }
   ],
   "source": [
    "tmp = df.loc[df['Порядковые_номера'].str.contains('7691-7700')]\n",
    "print(tmp.loc[tmp['Опушение'] == '0'])"
   ]
  },
  {
   "cell_type": "markdown",
   "metadata": {},
   "source": [
    "# Step 3: Exploratory data analysis"
   ]
  },
  {
   "cell_type": "code",
   "execution_count": 6,
   "metadata": {},
   "outputs": [
    {
     "name": "stdout",
     "output_type": "stream",
     "text": [
      "Всего изображений на прищепке: 7607\n",
      "Всего изображений на столе: 1901\n",
      "Всего изображений: 9508\n",
      "\n",
      "Образцов с опушением: 54\n",
      "Образцов без опушения: 108\n",
      "{'T. monococcum': [654, 0], 'T. boeoticum': [144, 0], 'T. urartu': [124, 0], 'T. yunnanense': [129, 0], 'T. aestivum': [294, 0], 'T. compactum': [134, 0], 'T. spelta': [99, 0], 'T. macha': [249, 0], 'T. vavilovii': [179, 0], 'T. petropavlovskyi': [458, 0], 'T. durum': [1086, 0], 'T. timopheevii': [874, 0], 'T. dicoccoides': [578, 0], 'T. turanicum': [39, 0], 'T. carthlicum': [819, 0], 'T. turgidum': [634, 0], 'T. dicoccum': [832, 0], 'T. aethiopicum': [1339, 0], 'T. polonicum': [824, 0]}\n",
      "dict_keys(['T. monococcum', 'T. boeoticum', 'T. urartu', 'T. yunnanense', 'T. aestivum', 'T. compactum', 'T. spelta', 'T. macha', 'T. vavilovii', 'T. petropavlovskyi', 'T. durum', 'T. timopheevii', 'T. dicoccoides', 'T. turanicum', 'T. carthlicum', 'T. turgidum', 'T. dicoccum', 'T. aethiopicum', 'T. polonicum'])\n",
      "9489\n"
     ]
    }
   ],
   "source": [
    "# Go through file system and calculate general num of images\n",
    "pin_dir = r'/pin'\n",
    "table_dir = r'/table'\n",
    "pin_patt = r'\\d{2,4}_[^,(I|l)]_\\{[ХXI]{1,2}-?\\d{2,4}\\}\\.(jpg|JPG)$'\n",
    "table_patt = r'\\d{2,4}_\\{[ХXI]{1,2}-?\\d{2,4}\\}\\.(jpg|JPG)$'\n",
    "spec_patt = r'T\\.\\s?[\\w]+'\n",
    "ord_patt = r'\\d{2,4}-?\\d{0,4}'\n",
    "spec_dist = {}\n",
    "# value [x,y] means: x - overall number of imgs, y - number of pubescence img\n",
    "pin_count = 0\n",
    "table_count = 0\n",
    "\n",
    "# Check species distribution and overall number of examples\n",
    "for dirpath, dirnames, filenames in os.walk('/data/cv_project/spikedroid/ploid_classification'):\n",
    "    if re.search(pin_dir, dirpath):\n",
    "        spec = re.search(spec_patt, dirpath).group()\n",
    "        for fn in filenames:\n",
    "            if re.search(pin_patt, fn):\n",
    "                # define does this species have pubescence\n",
    "                pubesc = 0\n",
    "                tmp1 = df.loc[df['Вид'] == spec]\n",
    "                tmp2 =  tmp1.loc[tmp1['Порядковые_номера'].str.contains(re.search(ord_patt, dirpath).group())]\n",
    "                if not tmp2.loc[tmp2['Опушение'] == True].empty:\n",
    "                    pubesc = 1\n",
    "                if spec not in spec_dist.keys():\n",
    "                    spec_dist[spec] = [0,0]\n",
    "                else:\n",
    "                    spec_dist[spec][0] += 1\n",
    "                    spec_dist[spec][1] += pubesc\n",
    "                pin_count += 1\n",
    "                \n",
    "    if re.search(table_dir, dirpath):\n",
    "        spec = re.search(spec_patt, dirpath).group()\n",
    "        for fn in filenames:\n",
    "            if re.search(table_patt, fn):\n",
    "                # define does this species have pubescence\n",
    "                pubesc = 0\n",
    "                tmp1 = df.loc[df['Вид'] == spec]\n",
    "                tmp2 =  tmp1.loc[tmp1['Порядковые_номера'].str.contains(re.search(ord_patt, dirpath).group())]\n",
    "                if not tmp2.loc[tmp2['Опушение'] == True].empty:\n",
    "                    pubesc = 1\n",
    "                if spec not in spec_dist.keys():\n",
    "                    spec_dist[spec] = [0,0]\n",
    "                else:\n",
    "                    spec_dist[spec][0] += 1\n",
    "                    spec_dist[spec][1] += pubesc\n",
    "                table_count += 1\n",
    "                \n",
    "overall = table_count+pin_count\n",
    "print('Всего изображений на прищепке:', pin_count)\n",
    "print('Всего изображений на столе:', table_count)\n",
    "print('Всего изображений:', overall)\n",
    "print()\n",
    "df = pd.read_csv(h_dir + '/labels.csv')\n",
    "print('Образцов с опушением:', len(df[df['Опушение'] == 1]))\n",
    "print('Образцов без опушения:', len(df[df['Опушение'] == 0]) )\n",
    "print(spec_dist)\n",
    "print(spec_dist.keys())\n",
    "sum_1 = 0\n",
    "for x in spec_dist.values():\n",
    "    sum_1 += x[0] - x[1]\n",
    "print(sum_1)"
   ]
  },
  {
   "cell_type": "code",
   "execution_count": 8,
   "metadata": {},
   "outputs": [
    {
     "data": {
      "image/png": "[encoded data removed]",
      "text/plain": [
       "<Figure size 2016x1080 with 1 Axes>"
      ]
     },
     "metadata": {
      "needs_background": "light"
     },
     "output_type": "display_data"
    }
   ],
   "source": [
    "labels = spec_dist.keys()\n",
    "pubesc = [x[1] for x in spec_dist.values()]\n",
    "non_pubesc = [x[0]-x[1] for x in spec_dist.values()]\n",
    "width = 0.35       # the width of the bars: can also be len(x) sequence\n",
    "\n",
    "fig, ax = plt.subplots(figsize=(28,15))\n",
    "\n",
    "ax.bar(labels, pubesc, label='Pubescenced')\n",
    "ax.bar(labels, non_pubesc, bottom=pubesc, label='Not pubescenced')\n",
    "\n",
    "ax.set_ylabel('Number of images')\n",
    "ax.legend()\n",
    "\n",
    "plt.show()\n",
    "fig.savefig(h_dir + '/hyst_pub.png')"
   ]
  },
  {
   "cell_type": "markdown",
   "metadata": {},
   "source": [
    "# Step 4: Create file with images, lables and samples name"
   ]
  },
  {
   "cell_type": "code",
   "execution_count": null,
   "metadata": {},
   "outputs": [],
   "source": [
    "# Used for extract species for training\n",
    "def GetSpecies(dataset_type='test'):\n",
    "    test = ['T. boeoticum', 'T. vavilovii', 'T. polonicum']\n",
    "    valid = ['T. macha', 'T. dicoccoides']\n",
    "#     test = ['T. petropavlovskyi', 'T. monococcum', 'T. turanicum']\n",
    "#     valid = ['T. durum', 'T. yunnanense']\n",
    "    if dataset_type == 'test':\n",
    "        return test\n",
    "    elif dataset_type == 'valid':\n",
    "        return valid\n",
    "    elif dataset_type == 'train':\n",
    "        spec_patt = r'T.\\s\\w*'\n",
    "        data_dir = '/data/cv_project/spikedroid/ploid_classification'\n",
    "        res = []\n",
    "        \n",
    "        # take all name of species\n",
    "        for dirpath, dirnames, filenames in os.walk(data_dir):\n",
    "            for dn in dirnames:\n",
    "                re_res = re.search(spec_patt, dn)\n",
    "                if re_res:\n",
    "                    res.append(re_res.group())\n",
    "        \n",
    "        # get away from lame species\n",
    "        for x in test:\n",
    "            res.remove(x)\n",
    "        for x in valid:\n",
    "            res.remove(x)\n",
    "        return res\n",
    "    else:\n",
    "        return None\n",
    "    \n",
    "def create_file():\n",
    "    def get_label(img_path):\n",
    "        subspec_patt = r'\\d{2,5}-?(\\d{2,5})?'\n",
    "        spec_patt = r'T\\.\\s\\w*'\n",
    "        veg_patt = r'(Х|X|I){1,2}-?\\d{2}'\n",
    "        # get name of subspecies and species\n",
    "        subspec = re.search(subspec_patt, img_path).group()\n",
    "        spec = re.search(spec_patt, img_path).group()\n",
    "        veg = re.search(veg_patt, img_path).group()\n",
    "            \n",
    "        # get the label according to species and subspecies\n",
    "        df = pd.read_csv('/home/jupyter-n.artemenko/projects/spikelet_pubescence/labels.csv')\n",
    "        tmp1 = df.loc[df['Вид'] == spec]\n",
    "        tmp2 = tmp1.loc[tmp1['Порядковые_номера'].str.contains(subspec)]\n",
    "        tmp3 = tmp2.loc[tmp2['Вегетация'].str.contains(veg)]\n",
    "        if tmp3.empty:\n",
    "            veg = veg.replace('X', 'Х')\n",
    "            tmp3 = tmp2.loc[tmp2['Вегетация'].str.contains(veg)]\n",
    "        if tmp3.empty:\n",
    "            veg = veg.replace('Х', 'X')\n",
    "            tmp3 = tmp2.loc[tmp2['Вегетация'].str.contains(veg)]\n",
    "        \n",
    "        # there are subspecies without any labels\n",
    "        if not tmp3.empty:\n",
    "            return int(tmp3.iloc[0]['Опушение'])\n",
    "        elif not tmp2.empty:\n",
    "            print(tmp2, spec, subspec, veg)\n",
    "            return None\n",
    "    \n",
    "    def get_sample(img_path):\n",
    "        spec_patt = r'T.\\s\\w*'\n",
    "        res = re.search(spec_patt, img_path).group()\n",
    "    \n",
    "        for x in ['train', 'valid', 'test']:\n",
    "            if res in GetSpecies(x):\n",
    "                return x\n",
    "        return None\n",
    "    \n",
    "    out = open('sample_split.txt', 'w')\n",
    "    h_dir = '/data/cv_project/spikedroid/ploid_classification'\n",
    "    \n",
    "    # patterns for images\n",
    "    pin_patt = r'[\\d]{2,5}_[^,(I|l)]_\\{[ХXI]{1,2}-?\\d{2,4}\\}\\.(jpg|JPG)$'\n",
    "    table_patt = r'[\\d]{2,5}_\\{[ХXI]{1,2}-?\\d{2,4}\\}\\.(jpg|JPG)$'\n",
    "    for dirpath, dirnames, filenames in os.walk(h_dir):\n",
    "        for fn in filenames:\n",
    "            res1 = re.search(pin_patt, fn)\n",
    "            res2 = re.search(table_patt, fn)\n",
    "            if res1 or res2:\n",
    "                # choose one not none value\n",
    "                res = ''\n",
    "                if res1:\n",
    "                    res = res1\n",
    "                else:\n",
    "                    res = res2\n",
    "                part1 = dirpath+'/'+res.group()\n",
    "                part2 = str(get_label(dirpath+'/'+fn))\n",
    "                part3 = get_sample(dirpath)\n",
    "                if part2 != 'None':\n",
    "                    # print(part1+' '+part2+' '+part3)\n",
    "                    out.write(part1+';'+part2+';'+part3+'\\n')\n",
    "    out.close()\n",
    "        \n",
    "create_file()"
   ]
  }
 ],
 "metadata": {
  "kernelspec": {
   "display_name": "Python 3 (ipykernel)",
   "language": "python",
   "name": "python3"
  },
  "language_info": {
   "codemirror_mode": {
    "name": "ipython",
    "version": 3
   },
   "file_extension": ".py",
   "mimetype": "text/x-python",
   "name": "python",
   "nbconvert_exporter": "python",
   "pygments_lexer": "ipython3",
   "version": "3.7.11"
  }
 },
 "nbformat": 4,
 "nbformat_minor": 4
}

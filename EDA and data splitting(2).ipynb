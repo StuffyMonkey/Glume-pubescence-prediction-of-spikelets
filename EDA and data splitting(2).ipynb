{
 "cells": [
  {
   "cell_type": "code",
   "execution_count": 1,
   "metadata": {},
   "outputs": [],
   "source": [
    "import pandas as pd\n",
    "import numpy as np\n",
    "import re\n",
    "import os\n",
    "import seaborn as sns\n",
    "from matplotlib import pyplot as plt\n",
    "\n",
    "h_dir = os.getcwd()"
   ]
  },
  {
   "cell_type": "markdown",
   "metadata": {},
   "source": [
    "### Step 1: Prepare text for future processing"
   ]
  },
  {
   "cell_type": "code",
   "execution_count": 2,
   "metadata": {},
   "outputs": [
    {
     "data": {
      "text/plain": [
       "['№ Каталога', 'Опушение', 'Вегетация', 'Порядковый номер', 'Диплоиды']"
      ]
     },
     "execution_count": 2,
     "metadata": {},
     "output_type": "execute_result"
    }
   ],
   "source": [
    "# Create csv file with labels\n",
    "\n",
    "text = open(h_dir + '/experimental_data')\n",
    "raw_data = text.read().split(';')\n",
    "for i in range(len(raw_data)):\n",
    "    raw_data[i] = raw_data[i].split('\\n')\n",
    "    filter_obj = filter(lambda x: x!='', raw_data[i])\n",
    "    raw_data[i] = list(filter_obj)\n",
    "    \n",
    "raw_data.pop(0)\n",
    "    \n",
    "# print(raw_data)"
   ]
  },
  {
   "cell_type": "markdown",
   "metadata": {},
   "source": [
    "### Step 2: Create dataframe to convert data in into csv using patterns of regex"
   ]
  },
  {
   "cell_type": "code",
   "execution_count": 3,
   "metadata": {},
   "outputs": [],
   "source": [
    "def list_to_str(lst):\n",
    "    res_str = ''\n",
    "    for x in lst:\n",
    "        res_str += x + ';'\n",
    "    return res_str\n",
    "\n",
    "\n",
    "df = pd.DataFrame({'Номер_каталога': [],\n",
    "                   'Вид_злаков':[],\n",
    "                   'Вид':[],\n",
    "                   'Опушение':[],\n",
    "                   'Вегетация':[],\n",
    "                   'Порядковые_номера':[]\n",
    "                  })\n",
    "\n",
    "spec_patt = r'T\\.\\s\\w*'\n",
    "species = ''\n",
    "\n",
    "ear_patt = r'([А-Я][а-я]*)'\n",
    "ear_kind = 'Диплоиды'\n",
    "\n",
    "veg_patt = ''\n",
    "num_patt = ''\n",
    "    \n",
    "for x in raw_data:\n",
    "    if not x:\n",
    "        continue\n",
    "    # in this case we consider only spicies of wheat and ear kinds (as you may see they are lists 1 lenght)\n",
    "    if len(x) == 1:\n",
    "        res = re.search(spec_patt, x[0])\n",
    "        if res:\n",
    "            species = res.group()\n",
    "        else:\n",
    "            res = re.search(ear_patt, x[0])\n",
    "            if res:\n",
    "                ear_kind = res.group()\n",
    "    # otherways we consider specific species of wheat\n",
    "    else:\n",
    "        catalog_num = x[0]\n",
    "        pubescence = 0\n",
    "        veg = []\n",
    "        ord_num = []\n",
    "        if x[1] == '+':\n",
    "            pubescence = 1\n",
    "            \n",
    "        # regex patterns to distinguish vegetation for order numbers\n",
    "        veg_patt = r'(X|Х|I){1,2}-?\\d{2}'\n",
    "        ord_patt = r'\\d{2,4}-?(\\d{2,4})?'\n",
    "        for i in [i+2 for i in range(len(x)-2)]:\n",
    "            res = re.search(veg_patt, x[i])\n",
    "            if res:\n",
    "                veg.append(res.group())\n",
    "            else:\n",
    "                res = re.search(ord_patt, x[i])\n",
    "                if res:\n",
    "                    ord_num.append(res.group())\n",
    "        # add data into dataframe\n",
    "        df = df.append(pd.DataFrame({'Номер_каталога': [catalog_num],\n",
    "                   'Вид_злаков':[ear_kind],\n",
    "                   'Вид':[species],\n",
    "                   'Опушение':[str(pubescence)],\n",
    "                   'Вегетация':[list_to_str(veg)],\n",
    "                   'Порядковые_номера':[list_to_str(ord_num)],\n",
    "                  }))\n",
    "\n",
    "# df ---> csv\n",
    "df.to_csv('labels.csv', index=False)"
   ]
  },
  {
   "cell_type": "code",
   "execution_count": 4,
   "metadata": {},
   "outputs": [
    {
     "name": "stdout",
     "output_type": "stream",
     "text": [
      "  Номер_каталога   Вид_злаков               Вид Опушение Вегетация  \\\n",
      "0        к-14976  Гексаплоиды  T. sphaerococcum        1    II-18;   \n",
      "0        к-33750  Гексаплоиды  T. sphaerococcum        0    II-18;   \n",
      "\n",
      "  Порядковые_номера  \n",
      "0          8451-60;  \n",
      "0        8491-8500;  \n"
     ]
    }
   ],
   "source": [
    "tmp = df.loc[df['Порядковые_номера'].str.contains('7691-7700')]\n",
    "# print(tmp.loc[tmp['Опушение'] == '0'])\n",
    "print(df.loc[df['Вид'] == 'T. sphaerococcum' ])"
   ]
  },
  {
   "cell_type": "markdown",
   "metadata": {},
   "source": [
    "### Step 3: Exploratory data analysis"
   ]
  },
  {
   "cell_type": "code",
   "execution_count": 5,
   "metadata": {},
   "outputs": [
    {
     "name": "stdout",
     "output_type": "stream",
     "text": [
      "Образцов с опушением: 54\n",
      "Образцов без опушения: 108\n"
     ]
    }
   ],
   "source": [
    "df = pd.read_csv(h_dir + '/labels.csv')\n",
    "\n",
    "print('Образцов с опушением:', len(df[df['Опушение'] == 1]))\n",
    "print('Образцов без опушения:', len(df[df['Опушение'] == 0]) )"
   ]
  },
  {
   "cell_type": "code",
   "execution_count": 6,
   "metadata": {},
   "outputs": [],
   "source": [
    "# Go through file system and calculate general num of images\n",
    "pin_dir = r'/pin'\n",
    "table_dir = r'/table'\n",
    "\n",
    "def species_stats(dir_type):\n",
    "    # define patterns for regexs\n",
    "    ord_patt = r'\\d{2,4}-?\\d{0,4}?'\n",
    "    spec_patt = r'T\\.\\s?[\\w]+'\n",
    "    img_patt = r'\\d{2,4}(_\\{[ХXI]{1,2}-?\\d{2,4}\\})?\\.(jpg|JPG)$'\n",
    "    if 'pin' in dir_type:\n",
    "        img_patt = r'\\d{2,4}_(([^,(I|l)]_\\{[ХXI]{1,2}-?\\d{2,4}\\})|(\\d{1}))\\.(jpg|JPG)$'\n",
    "        \n",
    "    # output will be respresented as dictionary in the form:\n",
    "    # 'T. macha': [x, y]\n",
    "    # value [x,y] means: x - overall number of imgs, y - number of pubescence img\n",
    "    res = {}\n",
    "    subspecies = {}\n",
    "    for dirpath, dirnames, filenames in os.walk('/data/cv_project/spikedroid/ploid_classification'):\n",
    "        if re.search(dir_type, dirpath):\n",
    "            # extract species\n",
    "            spec = re.search(spec_patt, dirpath).group()\n",
    "            # we want to add information about subspecies\n",
    "            if re.search(f'{spec}/(table|pin)$', dirpath):\n",
    "                subspecies[spec] = len(dirnames)\n",
    "            for fn in filenames:\n",
    "                if re.search(img_patt, fn):\n",
    "                    # define does this species have pubescence\n",
    "                    pubesc = 0\n",
    "                    tmp1 = df.loc[df['Вид'] == spec]\n",
    "                    tmp2 =  tmp1.loc[tmp1['Порядковые_номера'].str. \n",
    "                                         contains(re.search(ord_patt, dirpath).group())]\n",
    "                    if not tmp2.loc[tmp2['Опушение'] == True].empty:\n",
    "                        pubesc = 1\n",
    "                    if spec not in res.keys():\n",
    "                        res[spec] = [0,0]\n",
    "                        res[spec][pubesc] += 1\n",
    "                    else:\n",
    "                        res[spec][pubesc] += 1\n",
    "    return (res, subspecies)\n",
    "                \n",
    "table_spec_dist, subspec = species_stats(table_dir)\n",
    "pin_spec_dist, _ = species_stats(pin_dir)"
   ]
  },
  {
   "cell_type": "code",
   "execution_count": 7,
   "metadata": {},
   "outputs": [],
   "source": [
    "# dictionary with overall information about feature distributiong among species\n",
    "spec_dist = {}\n",
    "for key in table_spec_dist.keys():\n",
    "    spec_dist[key] = [table_spec_dist[key][0] + pin_spec_dist[key][0],\n",
    "                     table_spec_dist[key][1] + pin_spec_dist[key][1]]"
   ]
  },
  {
   "cell_type": "code",
   "execution_count": 8,
   "metadata": {},
   "outputs": [
    {
     "name": "stdout",
     "output_type": "stream",
     "text": [
      "Non pubescened/pubescent: [6360, 3484]\n",
      "Overall number: 9844\n"
     ]
    }
   ],
   "source": [
    "# without and with pubescence count\n",
    "pubesc_stat = [0, 0]\n",
    "for x in spec_dist.values():\n",
    "    pubesc_stat[0] += x[0]\n",
    "    pubesc_stat[1] += x[1]\n",
    "print('Non pubescened/pubescent:', pubesc_stat)\n",
    "print('Overall number:', sum(pubesc_stat))"
   ]
  },
  {
   "cell_type": "code",
   "execution_count": 9,
   "metadata": {},
   "outputs": [
    {
     "name": "stdout",
     "output_type": "stream",
     "text": [
      "T. monococcum 18\n",
      "T. boeoticum 7\n",
      "T. urartu 10\n",
      "T. yunnanense 4\n",
      "T. aestivum 8\n",
      "T. compactum 3\n",
      "T. spelta 4\n",
      "T. macha 8\n",
      "T. sphaerococcum 2\n",
      "T. vavilovii 5\n",
      "T. petropavlovskyi 8\n",
      "T. durum 24\n",
      "T. timopheevii 20\n",
      "T. dicoccoides 18\n",
      "T. turanicum 1\n",
      "T. carthlicum 20\n",
      "T. turgidum 14\n",
      "T. dicoccum 19\n",
      "T. aethiopicum 30\n",
      "T. polonicum 17\n"
     ]
    }
   ],
   "source": [
    "for key in spec_dist:\n",
    "    print(key, subspec[key])"
   ]
  },
  {
   "cell_type": "code",
   "execution_count": 10,
   "metadata": {},
   "outputs": [
    {
     "name": "stdout",
     "output_type": "stream",
     "text": [
      "T. monococcum [560, 95]\n",
      "T. boeoticum [80, 65]\n",
      "T. urartu [105, 20]\n",
      "T. yunnanense [95, 85]\n",
      "T. aestivum [280, 65]\n",
      "T. compactum [135, 0]\n",
      "T. spelta [140, 50]\n",
      "T. macha [220, 76]\n",
      "T. sphaerococcum [50, 50]\n",
      "T. vavilovii [15, 165]\n",
      "T. petropavlovskyi [85, 374]\n",
      "T. durum [667, 420]\n",
      "T. timopheevii [0, 875]\n",
      "T. dicoccoides [315, 264]\n",
      "T. turanicum [40, 0]\n",
      "T. carthlicum [320, 500]\n",
      "T. turgidum [500, 135]\n",
      "T. dicoccum [783, 50]\n",
      "T. aethiopicum [1295, 45]\n",
      "T. polonicum [675, 150]\n"
     ]
    }
   ],
   "source": [
    "for key in spec_dist:\n",
    "    print(key, spec_dist[key])"
   ]
  },
  {
   "cell_type": "code",
   "execution_count": 11,
   "metadata": {},
   "outputs": [],
   "source": [
    "sum_pubesc = 0\n",
    "sum_non_pubesc = 0\n",
    "for x in spec_dist.values():\n",
    "    sum_pubesc += x[1]\n",
    "    sum_non_pubesc += x[0]"
   ]
  },
  {
   "cell_type": "code",
   "execution_count": 12,
   "metadata": {},
   "outputs": [
    {
     "name": "stdout",
     "output_type": "stream",
     "text": [
      "3484 6360\n"
     ]
    }
   ],
   "source": [
    "print(sum_pubesc, sum_non_pubesc)"
   ]
  },
  {
   "cell_type": "markdown",
   "metadata": {},
   "source": [
    "### **Sample mean of length of spikelets**"
   ]
  },
  {
   "cell_type": "code",
   "execution_count": 13,
   "metadata": {},
   "outputs": [],
   "source": [
    "import cv2\n",
    "count = 0\n",
    "res_sum = 0\n",
    "\n",
    "img_path = '/home/jupyter-n.artemenko/projects/spikelet_pubescence/crops_without_spine/'\n",
    "for dirpath, dirnames, filenames in os.walk(img_path):\n",
    "    for name in filenames:\n",
    "        img = cv2.imread(f'{dirpath}/{name}')\n",
    "        x,y,z = img.shape\n",
    "        res_sum += x\n",
    "        count += 1                   "
   ]
  },
  {
   "cell_type": "code",
   "execution_count": 14,
   "metadata": {},
   "outputs": [
    {
     "name": "stdout",
     "output_type": "stream",
     "text": [
      "Sample mean: 962.2422423440838\n"
     ]
    }
   ],
   "source": [
    "print(\"Sample mean:\" , res_sum/count)"
   ]
  },
  {
   "cell_type": "code",
   "execution_count": 15,
   "metadata": {},
   "outputs": [
    {
     "data": {
      "image/png": "[encoded data removed]",
      "text/plain": [
       "<Figure size 2232x1080 with 1 Axes>"
      ]
     },
     "metadata": {
      "needs_background": "light"
     },
     "output_type": "display_data"
    }
   ],
   "source": [
    "labels = spec_dist.keys()\n",
    "pubesc = [x[1] for x in spec_dist.values()]\n",
    "non_pubesc = [x[0] for x in spec_dist.values()]\n",
    "width = 0.35       # the width of the bars: can also be len(x) sequence\n",
    "\n",
    "fig, ax = plt.subplots(figsize=(31,15))\n",
    "\n",
    "ax.bar(labels, pubesc, label='Pubescenced')\n",
    "ax.bar(labels, non_pubesc, bottom=pubesc, label='Not pubescenced')\n",
    "\n",
    "ax.set_ylabel('Number of images')\n",
    "ax.legend()\n",
    "\n",
    "plt.show()\n",
    "fig.savefig(h_dir + '/hyst_pub.png')"
   ]
  },
  {
   "cell_type": "markdown",
   "metadata": {},
   "source": [
    "### Step 4: Splitting algorithm (non-optimal enumeration)"
   ]
  },
  {
   "cell_type": "code",
   "execution_count": 16,
   "metadata": {},
   "outputs": [],
   "source": [
    "import itertools\n",
    "\n",
    "# If necessary I will add:\n",
    "# key_type - type of minimum, that we are searching\n",
    "#\n",
    "# key_type == 'sample_min' means, that we are searching split to minimize\n",
    "# sample mean\n",
    "#\n",
    "# key_type == 'defaul' means, that we are searching split to minimize\n",
    "# max difference between subsamples into the split\n",
    "\n",
    "def get_optimal_split():\n",
    "    k = sum_non_pubesc / sum_pubesc\n",
    "    s = sum_pubesc + sum_non_pubesc\n",
    "    print('Optimal k:', k)\n",
    "    print('Sum of all images:', s, '\\n')\n",
    "    \n",
    "    # 1. consider and store all possible sample splits\n",
    "    info = [(key, spec_dist[key]) for key in spec_dist]\n",
    "    splits = []\n",
    "    \n",
    "    all_pos = list(range(1, len(info)))\n",
    "    for pos in itertools.combinations(all_pos, 2):\n",
    "        tmp = []\n",
    "        prev_idx = 0\n",
    "        for curr_idx in pos:\n",
    "            tmp.append(info[prev_idx:curr_idx])\n",
    "            prev_idx = curr_idx\n",
    "        tmp.append(info[curr_idx:])\n",
    "        splits.append(tmp)\n",
    "\n",
    "    # 2. for each split - compute k and number of images\n",
    "    # format of data: [[% of overall imgs, k], [], []]\n",
    "    coefficients = []\n",
    "    for spl in splits:\n",
    "        tmp = []\n",
    "        for sample in spl:\n",
    "            tmp_s_pubesc = 0\n",
    "            tmp_s_non_pubesc = 0\n",
    "            for elem in sample:\n",
    "                tmp_s_pubesc += elem[1][1] \n",
    "                tmp_s_non_pubesc += elem[1][0]\n",
    "            if tmp_s_pubesc == 0:\n",
    "                tmp_s_pubesc = 0.1\n",
    "            tmp.append( ((tmp_s_pubesc + tmp_s_non_pubesc)/s, tmp_s_non_pubesc / tmp_s_pubesc) )\n",
    "        coefficients.append(tmp)\n",
    "    \n",
    "    # return coefficients\n",
    "    res1 = []\n",
    "    # 3. finding optimal split by sequential sifting\n",
    "    \n",
    "    # 3.1 sifting by percentage of overall images\n",
    "    for i, data in enumerate(coefficients):\n",
    "        data = sorted(data, key=lambda data: data[0], reverse=True)\n",
    "        if (not (0.9 > data[0][0] > 0.7)) or (not (0.2 > data[1][0] > 0.05)) or (not (0.2 > data[2][0] > 0.05)):\n",
    "            continue\n",
    "        else:\n",
    "            res1.append((i, data))\n",
    "\n",
    "    idx = 0\n",
    "    min_k = 100\n",
    "    # 3.2 find the minimum of difference between predefined k and k of the split\n",
    "    for i, data in res1:\n",
    "        k1 = data[0][1]\n",
    "        k2 = data[1][1]\n",
    "        k3 = data[2][1]\n",
    "        if max(abs(k1-k2),abs(k3-k2),abs(k1-k3)) < min_k:\n",
    "            idx = i\n",
    "            min_k = max(abs(k1-k2),abs(k3-k2),abs(k1-k3))\n",
    "    \n",
    "    # 4. form sample from optimal idx\n",
    "    final = sorted(splits[idx], reverse=True)\n",
    "    for i in range(3):\n",
    "        final[i] = [x[0] for j,x in enumerate(final[i])]\n",
    "    train = final[0]\n",
    "    valid = final[1]\n",
    "    test = final[2]\n",
    "    return (train, valid, test)"
   ]
  },
  {
   "cell_type": "code",
   "execution_count": 17,
   "metadata": {},
   "outputs": [
    {
     "name": "stdout",
     "output_type": "stream",
     "text": [
      "Optimal k: 1.82548794489093\n",
      "Sum of all images: 9844 \n",
      "\n"
     ]
    }
   ],
   "source": [
    "train, test, valid = get_optimal_split()"
   ]
  },
  {
   "cell_type": "code",
   "execution_count": 18,
   "metadata": {},
   "outputs": [
    {
     "name": "stdout",
     "output_type": "stream",
     "text": [
      "Train split: ['T. petropavlovskyi', 'T. durum', 'T. timopheevii', 'T. dicoccoides', 'T. turanicum', 'T. carthlicum', 'T. turgidum', 'T. dicoccum', 'T. aethiopicum', 'T. polonicum']\n",
      "\n",
      "Valid split: ['T. aestivum', 'T. compactum', 'T. spelta', 'T. macha', 'T. sphaerococcum', 'T. vavilovii']\n",
      "\n",
      "Test split: ['T. monococcum', 'T. boeoticum', 'T. urartu', 'T. yunnanense']\n",
      "\n"
     ]
    }
   ],
   "source": [
    "print(f'Train split: {train}', end='\\n\\n')\n",
    "print(f'Valid split: {valid}', end='\\n\\n')\n",
    "print(f'Test split: {test}', end='\\n\\n')"
   ]
  },
  {
   "cell_type": "markdown",
   "metadata": {},
   "source": [
    "### Step 4: Create file with images, lables and samples name"
   ]
  },
  {
   "cell_type": "code",
   "execution_count": 19,
   "metadata": {},
   "outputs": [],
   "source": [
    "    # first split\n",
    "# test = ['T. boeoticum', 'T. vavilovii', 'T. polonicum']\n",
    "# valid = ['T. macha', 'T. dicoccoides']\n",
    "    \n",
    "    # second split\n",
    "# test = ['T. petropavlovskyi', 'T. monococcum', 'T. turanicum']\n",
    "# valid = ['T. durum', 'T. yunnanense']\n",
    "\n",
    "    # third split\n",
    "# test = ['T. yunnanense', 'T. urartu', 'T. boeoticum', 'T. macha', 'T. sphaerococcum', 'T. spelta']\n",
    "# valid = ['T. durum']"
   ]
  },
  {
   "cell_type": "code",
   "execution_count": 20,
   "metadata": {},
   "outputs": [],
   "source": [
    "labelled_dist = {key: [0, 0] for key in (valid+test+train)}"
   ]
  },
  {
   "cell_type": "code",
   "execution_count": 21,
   "metadata": {},
   "outputs": [],
   "source": [
    "# Used for extract species for training\n",
    "    \n",
    "def create_file(train, test, valid, name='data_split'):\n",
    "    def get_label(img_path):\n",
    "        subspec_patt = r'\\d{2,5}-?(\\d{2,5})?'\n",
    "        spec_patt = r'T\\.\\s\\w*'\n",
    "        veg_patt = r'(Х|X|I){1,2}-?\\d{2}'\n",
    "        # get name of subspecies and species\n",
    "        subspec = re.search(subspec_patt, img_path).group()\n",
    "        spec = re.search(spec_patt, img_path).group()\n",
    "        veg = ''\n",
    "        if re.search(veg_patt, img_path):\n",
    "            veg = re.search(veg_patt, img_path).group()\n",
    "            \n",
    "        # get the label according to species and subspecies\n",
    "        df = pd.read_csv('/home/jupyter-n.artemenko/projects/spikelet_pubescence/labels.csv')\n",
    "        tmp1 = df.loc[df['Вид'] == spec]\n",
    "        tmp2 = tmp1.loc[tmp1['Порядковые_номера'].str.contains(subspec)]\n",
    "        \n",
    "        # there are subspecies without any labels\n",
    "        if not tmp2.empty:\n",
    "            label = int(tmp2.iloc[0]['Опушение'])\n",
    "            labelled_dist[spec][label] += 1\n",
    "            return label\n",
    "        else:\n",
    "            return None\n",
    "    \n",
    "    def get_sample(img_path):\n",
    "        spec_patt = r'T.\\s\\w*'\n",
    "        res = re.search(spec_patt, img_path).group()\n",
    "        if res in train:\n",
    "            return 'train'\n",
    "        if res in valid:\n",
    "            return 'valid'\n",
    "        if res in test:\n",
    "            return 'test'\n",
    "        return None\n",
    "    \n",
    "    \n",
    "    out = open(name, 'w')\n",
    "    h_dir = '/data/cv_project/spikedroid/ploid_classification'\n",
    "    \n",
    "    # patterns for images\n",
    "    pin_patt = r'\\d{2,5}_(([^,(I|l)]_\\{[ХXI]{1,2}-?\\d{2,4}\\})|(\\d{1}))\\.(jpg|JPG)$'\n",
    "    table_patt = r'\\d{2,5}(_\\{[ХXI]{1,2}-?\\d{2,4}\\})?\\.(jpg|JPG)$'\n",
    "    for dirpath, dirnames, filenames in os.walk(h_dir):\n",
    "        for fn in filenames:\n",
    "            res1 = re.search(pin_patt, fn)\n",
    "            res2 = re.search(table_patt, fn)\n",
    "            if res1 or res2:\n",
    "                # choose one not none value\n",
    "                res = ''\n",
    "                if res1:\n",
    "                    res = res1\n",
    "                else:\n",
    "                    res = res2\n",
    "                part1 = dirpath+'/'+res.group()\n",
    "                part2 = str(get_label(dirpath+'/'+fn))\n",
    "                part3 = get_sample(dirpath)\n",
    "                if part2 != 'None':\n",
    "                    # print(part1+' '+part2+' '+part3)\n",
    "                    out.write(part1+';'+part2+';'+part3+'\\n')\n",
    "    out.close()"
   ]
  },
  {
   "cell_type": "code",
   "execution_count": 22,
   "metadata": {},
   "outputs": [],
   "source": [
    "create_file(train, test, valid, name='optimal_split.txt')"
   ]
  },
  {
   "cell_type": "markdown",
   "metadata": {},
   "source": [
    "### EDA of used data in the project (less than overall data for about 200 images)"
   ]
  },
  {
   "cell_type": "code",
   "execution_count": 23,
   "metadata": {},
   "outputs": [
    {
     "name": "stdout",
     "output_type": "stream",
     "text": [
      "T. aestivum [280, 65]\n",
      "T. compactum [135, 0]\n",
      "T. spelta [140, 50]\n",
      "T. macha [220, 76]\n",
      "T. sphaerococcum [50, 50]\n",
      "T. vavilovii [0, 165]\n",
      "T. monococcum [560, 95]\n",
      "T. boeoticum [80, 65]\n",
      "T. urartu [105, 20]\n",
      "T. yunnanense [95, 85]\n",
      "T. petropavlovskyi [0, 374]\n",
      "T. durum [812, 275]\n",
      "T. timopheevii [0, 875]\n",
      "T. dicoccoides [315, 264]\n",
      "T. turanicum [0, 0]\n",
      "T. carthlicum [320, 500]\n",
      "T. turgidum [500, 90]\n",
      "T. dicoccum [783, 50]\n",
      "T. aethiopicum [1255, 45]\n",
      "T. polonicum [775, 50]\n"
     ]
    }
   ],
   "source": [
    "for key in labelled_dist:\n",
    "    print(key, labelled_dist[key])"
   ]
  },
  {
   "cell_type": "code",
   "execution_count": 24,
   "metadata": {},
   "outputs": [
    {
     "data": {
      "image/png": "[encoded data removed]",
      "text/plain": [
       "<Figure size 2232x1080 with 1 Axes>"
      ]
     },
     "metadata": {
      "needs_background": "light"
     },
     "output_type": "display_data"
    }
   ],
   "source": [
    "labels = labelled_dist.keys()\n",
    "pubesc = [x[1] for x in labelled_dist.values()]\n",
    "non_pubesc = [x[0] for x in labelled_dist.values()]\n",
    "width = 0.35       # the width of the bars: can also be len(x) sequence\n",
    "\n",
    "fig, ax = plt.subplots(figsize=(31,15))\n",
    "\n",
    "ax.bar(labels, pubesc, label='Pubescenced')\n",
    "ax.bar(labels, non_pubesc, bottom=pubesc, label='Not pubescenced')\n",
    "\n",
    "ax.set_ylabel('Number of images')\n",
    "ax.legend()\n",
    "\n",
    "plt.show()\n",
    "fig.savefig(h_dir + '/actual_data_pub.png')"
   ]
  },
  {
   "cell_type": "code",
   "execution_count": null,
   "metadata": {},
   "outputs": [],
   "source": []
  }
 ],
 "metadata": {
  "kernelspec": {
   "display_name": "Python 3 (ipykernel)",
   "language": "python",
   "name": "python3"
  },
  "language_info": {
   "codemirror_mode": {
    "name": "ipython",
    "version": 3
   },
   "file_extension": ".py",
   "mimetype": "text/x-python",
   "name": "python",
   "nbconvert_exporter": "python",
   "pygments_lexer": "ipython3",
   "version": "3.7.11"
  }
 },
 "nbformat": 4,
 "nbformat_minor": 4
}

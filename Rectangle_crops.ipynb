{
 "cells": [
  {
   "cell_type": "code",
   "execution_count": 31,
   "metadata": {},
   "outputs": [],
   "source": [
    "import numpy as np\n",
    "import cv2\n",
    "import re\n",
    "import os\n",
    "import albumentations as A"
   ]
  },
  {
   "cell_type": "code",
   "execution_count": 32,
   "metadata": {},
   "outputs": [],
   "source": [
    "img_dir = '/data/cv_project/spikedroid/ploid_classification'\n",
    "mask_dir = '/home/jupyter-n.artemenko/projects/spikelet_pubescence/masks'\n",
    "project_dir = '/home/jupyter-n.artemenko/projects/spikelet_pubescence'\n",
    "save_dir = '/home/jupyter-n.artemenko/projects/spikelet_pubescence/crops_without_spine'"
   ]
  },
  {
   "cell_type": "code",
   "execution_count": 33,
   "metadata": {},
   "outputs": [],
   "source": [
    "os.chdir(project_dir)"
   ]
  },
  {
   "cell_type": "markdown",
   "metadata": {},
   "source": [
    "### **Get image, mask, make crop and save**"
   ]
  },
  {
   "cell_type": "code",
   "execution_count": 34,
   "metadata": {},
   "outputs": [],
   "source": [
    "# define regex patterns\n",
    "ploid_patt = r'(Гексаплоиды)|(Диплоиды)|(Тетраплоиды)'\n",
    "spec_patt = r'T\\.\\s[a-z]*'\n",
    "pin_patt = r'[\\d]{2,5}_(([^,(I|l)]_\\{[XХI]+-?\\d{2}\\})|(\\d))\\.(jpg|JPG)$'\n",
    "table_patt = r'[\\d]{2,5}(_\\{[ХXI]+-?\\d{2}\\})?\\.(jpg|JPG)$'\n",
    "name_patt = r'[\\d_]*(\\{[ХXI]{1,2}-?\\d{2,5}\\})?'"
   ]
  },
  {
   "cell_type": "code",
   "execution_count": 50,
   "metadata": {},
   "outputs": [],
   "source": [
    "def make_crop(ploid, spec, img_type, img_name):\n",
    "    # file with data of unsuccessful attempts\n",
    "    logs = open(f'{os.getcwd()}/crop_logs.txt', 'w')\n",
    "    \n",
    "    # if we don't want overwrite files\n",
    "    # if os.path.exists((f'{save_dir}/{ploid}/{spec}/{img_type}/{img_name}').replace('.jpg','.png').replace('.JPG','.png')):\n",
    "    #     return\n",
    "                    \n",
    "    # Create directory with species\n",
    "    if not os.path.exists(f'{save_dir}/{ploid}/{spec}/{img_type}'):\n",
    "        spec = spec.replace(' ', '\\ ')\n",
    "        os.system(f'mkdir {save_dir}/{ploid}')\n",
    "        os.system(f'mkdir {save_dir}/{ploid}/{spec}')\n",
    "        os.system(f'mkdir {save_dir}/{ploid}/{spec}/{img_type}')\n",
    "            \n",
    "            \n",
    "    # Open files, mask and get product o mask and image\n",
    "    raw_img = cv2.imread(dirpath + '/' + img_name)\n",
    "    nm = (f'{mask_dir}/{ploid}/{img_type}/{img_name}').replace('.jpg','.png').replace('.JPG','.png')\n",
    "    mask = cv2.imread(nm)\n",
    "    \n",
    "    if mask is None:\n",
    "        logs.write(f'There is no mask for image: {dirpath}/{img_name}\\n')\n",
    "        return\n",
    "    if mask.shape != raw_img.shape:\n",
    "        logs.write(f'Dimension problem: {dirpath}/{img_name}\\n')\n",
    "        return\n",
    "                \n",
    "    # acquire 3-channel mask for spike only\n",
    "    tmp = np.moveaxis(mask, 2, 0)\n",
    "    tmp[0] = tmp[1]\n",
    "    tmp[2] = tmp[1]\n",
    "    tmp = np.moveaxis(mask, 2, 2)\n",
    "    # product of mask and image\n",
    "    img = cv2.bitwise_and(raw_img, tmp)\n",
    "            \n",
    "    # Make crop and unsqueeze to square binary-power form\n",
    "    original = img.copy()\n",
    "    gray = cv2.cvtColor(tmp, cv2.COLOR_BGR2GRAY)\n",
    "    # thresh = cv2.threshold(gray, 127, 255, cv2.THRESH_BINARY_INV + cv2.THRESH_OTSU)[1]\n",
    "            \n",
    "    # Find contours, obtain bounding box, extract and save ROI\n",
    "    cnts = cv2.findContours(gray, cv2.RETR_TREE, cv2.CHAIN_APPROX_SIMPLE)\n",
    "    cnts = cnts[0] if len(cnts) == 2 else cnts[1]\n",
    "\n",
    "    # List with dimensions of contours\n",
    "    areas = []\n",
    "    for c in cnts:\n",
    "        x,y,w,h = cv2.boundingRect(c)\n",
    "        areas.append((x, y, w, h, w*h))\n",
    "                    \n",
    "    areas = sorted(areas, key=lambda tup: tup[4], reverse=True)\n",
    "    # we need second largest bounding box, first is the overall image\n",
    "    x,y,w,h,_ = areas[0]\n",
    "                    \n",
    "    # get rectangle with corner x,y and the approproate w,h\n",
    "    cv2.rectangle(img, (x, y), (x + w, y + h), (36,255,12), 2)\n",
    "    img = original[y:y+h, x:x+w] \n",
    "                \n",
    "    # save bounding box\n",
    "    spec = spec.replace('\\ ', ' ')\n",
    "    cv2.imwrite((f'{save_dir}/{ploid}/{spec}/{img_type}/{img_name}').replace('.jpg', '.png').replace('.JPG', '.png'), img)"
   ]
  },
  {
   "cell_type": "code",
   "execution_count": null,
   "metadata": {},
   "outputs": [],
   "source": [
    "for dirpath, dirnames, filenames in os.walk(img_dir):\n",
    "    for fn in filenames:\n",
    "        # Get data of ploidness, img_name, img_type\n",
    "        ploid = re.search(ploid_patt, dirpath)\n",
    "        ploid = ploid.group() if ploid else None\n",
    "        spec = re.search(spec_patt, dirpath)\n",
    "        spec = spec.group() if spec else None\n",
    "        img_type = 'pin'\n",
    "        img_name = re.search(pin_patt, fn)\n",
    "        if not img_name:\n",
    "            img_type = 'table'\n",
    "            img_name = re.search(table_patt, fn)\n",
    "        if img_name:\n",
    "            img_name = img_name.group()\n",
    "            make_crop(ploid, spec, img_type, img_name)"
   ]
  },
  {
   "cell_type": "markdown",
   "metadata": {},
   "source": [
    "### Crops for holdout"
   ]
  },
  {
   "cell_type": "code",
   "execution_count": 1,
   "metadata": {},
   "outputs": [],
   "source": [
    "base_dir = '/home/jupyter-n.artemenko/projects/spikelet_pubescence/test/Holdout/'\n",
    "save_path = f'{base_dir}spikelets/'\n",
    "inp_path = f'/data/cv_project/spikedroid/опушение/'\n",
    "mask_path = f'{base_dir}masks/'\n",
    "\n",
    "pubesc_patt = r'опушением'"
   ]
  },
  {
   "cell_type": "code",
   "execution_count": 4,
   "metadata": {},
   "outputs": [],
   "source": [
    "with open(f'{base_dir}holdout_annotation', 'w') as oup:\n",
    "    for dirpath, dirnames, filenames in os.walk(inp_path):\n",
    "        for fn in filenames:\n",
    "            # define target\n",
    "            target = 1 if re.search(pubesc_patt, dirpath) else 0\n",
    "            # read image, mask and get pure image\n",
    "            raw_img = cv2.imread(f'{dirpath}/{fn}')\n",
    "            mask = []\n",
    "            tmp_path = f'{mask_path}неопушенные/{fn}'.replace('jpg', 'png')\n",
    "            if target == 1:\n",
    "                tmp_path = f'{mask_path}опушенные/{fn}'.replace('jpg', 'png')\n",
    "                mask = cv2.imread(tmp_path)\n",
    "            else:\n",
    "                mask = cv2.imread(tmp_path)\n",
    "            if mask is None:\n",
    "                print(tmp_path, target)\n",
    "                continue\n",
    "            tmp = np.moveaxis(mask, 2, 0)\n",
    "            tmp[0] = tmp[1]\n",
    "            tmp[2] = tmp[1]\n",
    "            tmp = np.moveaxis(mask, 2, 2)\n",
    "            img = cv2.bitwise_and(raw_img, tmp)\n",
    "                              \n",
    "            # Make crop and unsqueeze to square binary-power form\n",
    "            gray = cv2.cvtColor(img, cv2.COLOR_BGR2GRAY)\n",
    "            thresh = cv2.threshold(gray, 0, 255, cv2.THRESH_BINARY_INV + cv2.THRESH_OTSU)[1]\n",
    "            \n",
    "            # Find contours, obtain bounding box, extract and save ROI\n",
    "            cnts = cv2.findContours(thresh, cv2.RETR_TREE, cv2.CHAIN_APPROX_SIMPLE)\n",
    "            cnts = cnts[0] if len(cnts) == 2 else cnts[1]\n",
    "            # List with crops\n",
    "            areas = []\n",
    "            for c in cnts:\n",
    "                x,y,w,h = cv2.boundingRect(c)\n",
    "                areas.append((x, y, w, h, w*h))\n",
    "            areas = sorted(areas, key=lambda tup: tup[4])\n",
    "            x,y,w,h,_ = areas[-2]\n",
    "            cv2.rectangle(img, (x, y), (x + w, y + h), (0, 0, 0), 2)\n",
    "                              \n",
    "            res = img[y:y+h, x:x+w]\n",
    "            cv2.imwrite(f'{save_path}{fn}', res)\n",
    "            oup.write(f'{save_path}{fn};{target};test\\n')"
   ]
  },
  {
   "cell_type": "code",
   "execution_count": null,
   "metadata": {},
   "outputs": [],
   "source": []
  }
 ],
 "metadata": {
  "kernelspec": {
   "display_name": "Python 3 (ipykernel)",
   "language": "python",
   "name": "python3"
  },
  "language_info": {
   "codemirror_mode": {
    "name": "ipython",
    "version": 3
   },
   "file_extension": ".py",
   "mimetype": "text/x-python",
   "name": "python",
   "nbconvert_exporter": "python",
   "pygments_lexer": "ipython3",
   "version": "3.7.11"
  }
 },
 "nbformat": 4,
 "nbformat_minor": 4
}
